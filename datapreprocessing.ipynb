{
 "cells": [
  {
   "cell_type": "code",
   "execution_count": 185,
   "id": "29e26bee",
   "metadata": {},
   "outputs": [],
   "source": [
    "import numpy as np\n",
    "import pandas as pd\n",
    "import warnings\n",
    "warnings.filterwarnings('ignore')"
   ]
  },
  {
   "cell_type": "code",
   "execution_count": 186,
   "id": "db2a7a7d",
   "metadata": {},
   "outputs": [],
   "source": [
    "data1=pd.read_csv(\"topai-tools.csv\")\n",
    "data2=pd.read_csv(\"kaggle-all_ai_tool.csv\")"
   ]
  },
  {
   "cell_type": "code",
   "execution_count": 187,
   "id": "e07273b2",
   "metadata": {},
   "outputs": [
    {
     "data": {
      "text/html": [
       "<div>\n",
       "<style scoped>\n",
       "    .dataframe tbody tr th:only-of-type {\n",
       "        vertical-align: middle;\n",
       "    }\n",
       "\n",
       "    .dataframe tbody tr th {\n",
       "        vertical-align: top;\n",
       "    }\n",
       "\n",
       "    .dataframe thead th {\n",
       "        text-align: right;\n",
       "    }\n",
       "</style>\n",
       "<table border=\"1\" class=\"dataframe\">\n",
       "  <thead>\n",
       "    <tr style=\"text-align: right;\">\n",
       "      <th></th>\n",
       "      <th>Tool Name</th>\n",
       "      <th>Link</th>\n",
       "      <th>Category</th>\n",
       "      <th>Description</th>\n",
       "      <th>payment</th>\n",
       "    </tr>\n",
       "  </thead>\n",
       "  <tbody>\n",
       "    <tr>\n",
       "      <th>0</th>\n",
       "      <td>Verk</td>\n",
       "      <td>https://getverk.ai</td>\n",
       "      <td>Business,Automation</td>\n",
       "      <td>Verk.ai is an AI tool that allows businesses t...</td>\n",
       "      <td>Free trial</td>\n",
       "    </tr>\n",
       "    <tr>\n",
       "      <th>1</th>\n",
       "      <td>Cliptics</td>\n",
       "      <td>https://cliptics.com/</td>\n",
       "      <td>Text-to-speech,Voice</td>\n",
       "      <td>ClIptics is an online tool that allows you to ...</td>\n",
       "      <td>Free</td>\n",
       "    </tr>\n",
       "    <tr>\n",
       "      <th>2</th>\n",
       "      <td>KardsAI - Instant Flashcard</td>\n",
       "      <td>https://www.kardsai.app</td>\n",
       "      <td>Education,Students</td>\n",
       "      <td>Kardsai, an instant flashcard mobile app power...</td>\n",
       "      <td>Freemium</td>\n",
       "    </tr>\n",
       "    <tr>\n",
       "      <th>3</th>\n",
       "      <td>AI Phone</td>\n",
       "      <td>https://www.aiphone.ai/</td>\n",
       "      <td>Customer Support,AI Assistant</td>\n",
       "      <td>AI Phone is revolutionizing the phone call exp...</td>\n",
       "      <td>Free trial</td>\n",
       "    </tr>\n",
       "    <tr>\n",
       "      <th>4</th>\n",
       "      <td>Shakker.Ai</td>\n",
       "      <td>https://www.shakker.ai/</td>\n",
       "      <td>Image Generation</td>\n",
       "      <td>Shakker.ai, is a powerful image generator with...</td>\n",
       "      <td>Paid</td>\n",
       "    </tr>\n",
       "  </tbody>\n",
       "</table>\n",
       "</div>"
      ],
      "text/plain": [
       "                     Tool Name                      Link  \\\n",
       "0                         Verk        https://getverk.ai   \n",
       "1                     Cliptics     https://cliptics.com/   \n",
       "2  KardsAI - Instant Flashcard   https://www.kardsai.app   \n",
       "3                     AI Phone   https://www.aiphone.ai/   \n",
       "4                   Shakker.Ai   https://www.shakker.ai/   \n",
       "\n",
       "                        Category  \\\n",
       "0            Business,Automation   \n",
       "1           Text-to-speech,Voice   \n",
       "2             Education,Students   \n",
       "3  Customer Support,AI Assistant   \n",
       "4               Image Generation   \n",
       "\n",
       "                                         Description     payment  \n",
       "0  Verk.ai is an AI tool that allows businesses t...  Free trial  \n",
       "1  ClIptics is an online tool that allows you to ...        Free  \n",
       "2  Kardsai, an instant flashcard mobile app power...    Freemium  \n",
       "3  AI Phone is revolutionizing the phone call exp...  Free trial  \n",
       "4  Shakker.ai, is a powerful image generator with...        Paid  "
      ]
     },
     "execution_count": 187,
     "metadata": {},
     "output_type": "execute_result"
    }
   ],
   "source": [
    "data1.head()"
   ]
  },
  {
   "cell_type": "code",
   "execution_count": 188,
   "id": "553495bb",
   "metadata": {},
   "outputs": [
    {
     "data": {
      "text/plain": [
       "'https://getverk.ai'"
      ]
     },
     "execution_count": 188,
     "metadata": {},
     "output_type": "execute_result"
    }
   ],
   "source": [
    "data1['Link'][0]"
   ]
  },
  {
   "cell_type": "code",
   "execution_count": 189,
   "id": "fefa26a4",
   "metadata": {},
   "outputs": [],
   "source": [
    "data1['Link'] = data1['Link'].apply(lambda x: x.split('?')[0] if '?' in x else x)"
   ]
  },
  {
   "cell_type": "code",
   "execution_count": 190,
   "id": "7ef9c573",
   "metadata": {},
   "outputs": [
    {
     "data": {
      "text/plain": [
       "'https://getverk.ai'"
      ]
     },
     "execution_count": 190,
     "metadata": {},
     "output_type": "execute_result"
    }
   ],
   "source": [
    "data1['Link'][0]"
   ]
  },
  {
   "cell_type": "code",
   "execution_count": 191,
   "id": "b668552d",
   "metadata": {},
   "outputs": [],
   "source": [
    "#preprocessing data2"
   ]
  },
  {
   "cell_type": "code",
   "execution_count": 192,
   "id": "c9a74bc1",
   "metadata": {},
   "outputs": [
    {
     "data": {
      "text/html": [
       "<div>\n",
       "<style scoped>\n",
       "    .dataframe tbody tr th:only-of-type {\n",
       "        vertical-align: middle;\n",
       "    }\n",
       "\n",
       "    .dataframe tbody tr th {\n",
       "        vertical-align: top;\n",
       "    }\n",
       "\n",
       "    .dataframe thead th {\n",
       "        text-align: right;\n",
       "    }\n",
       "</style>\n",
       "<table border=\"1\" class=\"dataframe\">\n",
       "  <thead>\n",
       "    <tr style=\"text-align: right;\">\n",
       "      <th></th>\n",
       "      <th>AI Tool Name</th>\n",
       "      <th>Description</th>\n",
       "      <th>Free/Paid/Other</th>\n",
       "      <th>Useable For</th>\n",
       "      <th>Charges</th>\n",
       "      <th>Review</th>\n",
       "      <th>Tool Link</th>\n",
       "      <th>Major Category</th>\n",
       "    </tr>\n",
       "  </thead>\n",
       "  <tbody>\n",
       "    <tr>\n",
       "      <th>0</th>\n",
       "      <td>Farm3D</td>\n",
       "      <td>Learning Articulated 3D Animals by Distilling ...</td>\n",
       "      <td>Free</td>\n",
       "      <td>/ experiments    / 3D</td>\n",
       "      <td>NaN</td>\n",
       "      <td>NaN</td>\n",
       "      <td>https://farm3d.github.io/?utm_source=futureped...</td>\n",
       "      <td>other</td>\n",
       "    </tr>\n",
       "    <tr>\n",
       "      <th>1</th>\n",
       "      <td>Mailbutler Ai</td>\n",
       "      <td>AI-powered Smart Assistant for Outlook, Gmail ...</td>\n",
       "      <td>Freemium</td>\n",
       "      <td>/ email assistant</td>\n",
       "      <td>$ 4.95/mo</td>\n",
       "      <td>1</td>\n",
       "      <td>https://www.mailbutler.io/smart-assistant/?utm...</td>\n",
       "      <td>text</td>\n",
       "    </tr>\n",
       "    <tr>\n",
       "      <th>2</th>\n",
       "      <td>Maverick</td>\n",
       "      <td>Send customers personalized videos at scale.</td>\n",
       "      <td>Paid</td>\n",
       "      <td>/ e-commerce    / audio editing</td>\n",
       "      <td>$ 100/mo</td>\n",
       "      <td>NaN</td>\n",
       "      <td>https://www.trymaverick.com/?utm_source=future...</td>\n",
       "      <td>audio</td>\n",
       "    </tr>\n",
       "    <tr>\n",
       "      <th>3</th>\n",
       "      <td>0Xai</td>\n",
       "      <td>Stable Diffusion Prompt And Images Generator</td>\n",
       "      <td>Free</td>\n",
       "      <td>/ image generator    / prompts</td>\n",
       "      <td>NaN</td>\n",
       "      <td>NaN</td>\n",
       "      <td>https://0xai.quest?utm_source=futurepedia&amp;utm_...</td>\n",
       "      <td>image</td>\n",
       "    </tr>\n",
       "    <tr>\n",
       "      <th>4</th>\n",
       "      <td>10Web</td>\n",
       "      <td>AI-powered WordPress platform for automated we...</td>\n",
       "      <td>Freemium</td>\n",
       "      <td>/ low-code/no-code</td>\n",
       "      <td>NaN</td>\n",
       "      <td>NaN</td>\n",
       "      <td>https://10web.io/?utm_source=futurepedia&amp;utm_m...</td>\n",
       "      <td>code</td>\n",
       "    </tr>\n",
       "  </tbody>\n",
       "</table>\n",
       "</div>"
      ],
      "text/plain": [
       "     AI Tool Name                                        Description  \\\n",
       "0          Farm3D  Learning Articulated 3D Animals by Distilling ...   \n",
       "1   Mailbutler Ai  AI-powered Smart Assistant for Outlook, Gmail ...   \n",
       "2       Maverick      Send customers personalized videos at scale.     \n",
       "3            0Xai      Stable Diffusion Prompt And Images Generator    \n",
       "4           10Web  AI-powered WordPress platform for automated we...   \n",
       "\n",
       "  Free/Paid/Other                        Useable For    Charges Review  \\\n",
       "0            Free              / experiments    / 3D        NaN    NaN   \n",
       "1        Freemium                  / email assistant  $ 4.95/mo      1   \n",
       "2            Paid    / e-commerce    / audio editing   $ 100/mo    NaN   \n",
       "3            Free     / image generator    / prompts        NaN    NaN   \n",
       "4        Freemium                 / low-code/no-code        NaN    NaN   \n",
       "\n",
       "                                           Tool Link Major Category  \n",
       "0  https://farm3d.github.io/?utm_source=futureped...          other  \n",
       "1  https://www.mailbutler.io/smart-assistant/?utm...           text  \n",
       "2  https://www.trymaverick.com/?utm_source=future...          audio  \n",
       "3  https://0xai.quest?utm_source=futurepedia&utm_...          image  \n",
       "4  https://10web.io/?utm_source=futurepedia&utm_m...           code  "
      ]
     },
     "execution_count": 192,
     "metadata": {},
     "output_type": "execute_result"
    }
   ],
   "source": [
    "data2.head()"
   ]
  },
  {
   "cell_type": "code",
   "execution_count": 193,
   "id": "23b79e3f",
   "metadata": {},
   "outputs": [],
   "source": [
    "data2.drop(['Charges','Review','Major Category'],axis=1,inplace=True)"
   ]
  },
  {
   "cell_type": "code",
   "execution_count": 194,
   "id": "b1b63d3d",
   "metadata": {},
   "outputs": [],
   "source": [
    "data2.columns= ['Tool Name', 'Description', 'payment','Category','Link']\n"
   ]
  },
  {
   "cell_type": "code",
   "execution_count": 195,
   "id": "6bcb03bd",
   "metadata": {},
   "outputs": [
    {
     "data": {
      "text/html": [
       "<div>\n",
       "<style scoped>\n",
       "    .dataframe tbody tr th:only-of-type {\n",
       "        vertical-align: middle;\n",
       "    }\n",
       "\n",
       "    .dataframe tbody tr th {\n",
       "        vertical-align: top;\n",
       "    }\n",
       "\n",
       "    .dataframe thead th {\n",
       "        text-align: right;\n",
       "    }\n",
       "</style>\n",
       "<table border=\"1\" class=\"dataframe\">\n",
       "  <thead>\n",
       "    <tr style=\"text-align: right;\">\n",
       "      <th></th>\n",
       "      <th>Tool Name</th>\n",
       "      <th>Description</th>\n",
       "      <th>payment</th>\n",
       "      <th>Category</th>\n",
       "      <th>Link</th>\n",
       "    </tr>\n",
       "  </thead>\n",
       "  <tbody>\n",
       "    <tr>\n",
       "      <th>0</th>\n",
       "      <td>Farm3D</td>\n",
       "      <td>Learning Articulated 3D Animals by Distilling ...</td>\n",
       "      <td>Free</td>\n",
       "      <td>/ experiments    / 3D</td>\n",
       "      <td>https://farm3d.github.io/?utm_source=futureped...</td>\n",
       "    </tr>\n",
       "    <tr>\n",
       "      <th>1</th>\n",
       "      <td>Mailbutler Ai</td>\n",
       "      <td>AI-powered Smart Assistant for Outlook, Gmail ...</td>\n",
       "      <td>Freemium</td>\n",
       "      <td>/ email assistant</td>\n",
       "      <td>https://www.mailbutler.io/smart-assistant/?utm...</td>\n",
       "    </tr>\n",
       "    <tr>\n",
       "      <th>2</th>\n",
       "      <td>Maverick</td>\n",
       "      <td>Send customers personalized videos at scale.</td>\n",
       "      <td>Paid</td>\n",
       "      <td>/ e-commerce    / audio editing</td>\n",
       "      <td>https://www.trymaverick.com/?utm_source=future...</td>\n",
       "    </tr>\n",
       "    <tr>\n",
       "      <th>3</th>\n",
       "      <td>0Xai</td>\n",
       "      <td>Stable Diffusion Prompt And Images Generator</td>\n",
       "      <td>Free</td>\n",
       "      <td>/ image generator    / prompts</td>\n",
       "      <td>https://0xai.quest?utm_source=futurepedia&amp;utm_...</td>\n",
       "    </tr>\n",
       "    <tr>\n",
       "      <th>4</th>\n",
       "      <td>10Web</td>\n",
       "      <td>AI-powered WordPress platform for automated we...</td>\n",
       "      <td>Freemium</td>\n",
       "      <td>/ low-code/no-code</td>\n",
       "      <td>https://10web.io/?utm_source=futurepedia&amp;utm_m...</td>\n",
       "    </tr>\n",
       "  </tbody>\n",
       "</table>\n",
       "</div>"
      ],
      "text/plain": [
       "        Tool Name                                        Description  \\\n",
       "0          Farm3D  Learning Articulated 3D Animals by Distilling ...   \n",
       "1   Mailbutler Ai  AI-powered Smart Assistant for Outlook, Gmail ...   \n",
       "2       Maverick      Send customers personalized videos at scale.     \n",
       "3            0Xai      Stable Diffusion Prompt And Images Generator    \n",
       "4           10Web  AI-powered WordPress platform for automated we...   \n",
       "\n",
       "    payment                           Category  \\\n",
       "0      Free              / experiments    / 3D   \n",
       "1  Freemium                  / email assistant   \n",
       "2      Paid    / e-commerce    / audio editing   \n",
       "3      Free     / image generator    / prompts   \n",
       "4  Freemium                 / low-code/no-code   \n",
       "\n",
       "                                                Link  \n",
       "0  https://farm3d.github.io/?utm_source=futureped...  \n",
       "1  https://www.mailbutler.io/smart-assistant/?utm...  \n",
       "2  https://www.trymaverick.com/?utm_source=future...  \n",
       "3  https://0xai.quest?utm_source=futurepedia&utm_...  \n",
       "4  https://10web.io/?utm_source=futurepedia&utm_m...  "
      ]
     },
     "execution_count": 195,
     "metadata": {},
     "output_type": "execute_result"
    }
   ],
   "source": [
    "data2.head()"
   ]
  },
  {
   "cell_type": "code",
   "execution_count": 196,
   "id": "603754b3",
   "metadata": {},
   "outputs": [],
   "source": [
    "data2['Category'] = data2['Category'].apply(lambda x: ','.join(x.split('/')).strip()[1:])"
   ]
  },
  {
   "cell_type": "code",
   "execution_count": 197,
   "id": "c32d4b29",
   "metadata": {},
   "outputs": [
    {
     "data": {
      "text/plain": [
       "'https://farm3d.github.io/?utm_source=futurepedia&utm_medium=marketplace&utm_campaign=futurepedia'"
      ]
     },
     "execution_count": 197,
     "metadata": {},
     "output_type": "execute_result"
    }
   ],
   "source": [
    "data2['Link'][0]"
   ]
  },
  {
   "cell_type": "code",
   "execution_count": 198,
   "id": "729f551f",
   "metadata": {},
   "outputs": [],
   "source": [
    "data2['Link'] = data2['Link'].apply(lambda x: x.split('?')[0] if '?' in x else x)"
   ]
  },
  {
   "cell_type": "code",
   "execution_count": 199,
   "id": "e6d7c9ac",
   "metadata": {},
   "outputs": [
    {
     "data": {
      "text/plain": [
       "'https://farm3d.github.io/'"
      ]
     },
     "execution_count": 199,
     "metadata": {},
     "output_type": "execute_result"
    }
   ],
   "source": [
    "data2['Link'][0]"
   ]
  },
  {
   "cell_type": "code",
   "execution_count": 200,
   "id": "7d815e45",
   "metadata": {},
   "outputs": [
    {
     "data": {
      "text/html": [
       "<div>\n",
       "<style scoped>\n",
       "    .dataframe tbody tr th:only-of-type {\n",
       "        vertical-align: middle;\n",
       "    }\n",
       "\n",
       "    .dataframe tbody tr th {\n",
       "        vertical-align: top;\n",
       "    }\n",
       "\n",
       "    .dataframe thead th {\n",
       "        text-align: right;\n",
       "    }\n",
       "</style>\n",
       "<table border=\"1\" class=\"dataframe\">\n",
       "  <thead>\n",
       "    <tr style=\"text-align: right;\">\n",
       "      <th></th>\n",
       "      <th>Tool Name</th>\n",
       "      <th>Description</th>\n",
       "      <th>payment</th>\n",
       "      <th>Category</th>\n",
       "      <th>Link</th>\n",
       "    </tr>\n",
       "  </thead>\n",
       "  <tbody>\n",
       "    <tr>\n",
       "      <th>0</th>\n",
       "      <td>Farm3D</td>\n",
       "      <td>Learning Articulated 3D Animals by Distilling ...</td>\n",
       "      <td>Free</td>\n",
       "      <td>experiments    , 3D</td>\n",
       "      <td>https://farm3d.github.io/</td>\n",
       "    </tr>\n",
       "    <tr>\n",
       "      <th>1</th>\n",
       "      <td>Mailbutler Ai</td>\n",
       "      <td>AI-powered Smart Assistant for Outlook, Gmail ...</td>\n",
       "      <td>Freemium</td>\n",
       "      <td>email assistant</td>\n",
       "      <td>https://www.mailbutler.io/smart-assistant/</td>\n",
       "    </tr>\n",
       "    <tr>\n",
       "      <th>2</th>\n",
       "      <td>Maverick</td>\n",
       "      <td>Send customers personalized videos at scale.</td>\n",
       "      <td>Paid</td>\n",
       "      <td>e-commerce    , audio editing</td>\n",
       "      <td>https://www.trymaverick.com/</td>\n",
       "    </tr>\n",
       "    <tr>\n",
       "      <th>3</th>\n",
       "      <td>0Xai</td>\n",
       "      <td>Stable Diffusion Prompt And Images Generator</td>\n",
       "      <td>Free</td>\n",
       "      <td>image generator    , prompts</td>\n",
       "      <td>https://0xai.quest</td>\n",
       "    </tr>\n",
       "    <tr>\n",
       "      <th>4</th>\n",
       "      <td>10Web</td>\n",
       "      <td>AI-powered WordPress platform for automated we...</td>\n",
       "      <td>Freemium</td>\n",
       "      <td>low-code,no-code</td>\n",
       "      <td>https://10web.io/</td>\n",
       "    </tr>\n",
       "  </tbody>\n",
       "</table>\n",
       "</div>"
      ],
      "text/plain": [
       "        Tool Name                                        Description  \\\n",
       "0          Farm3D  Learning Articulated 3D Animals by Distilling ...   \n",
       "1   Mailbutler Ai  AI-powered Smart Assistant for Outlook, Gmail ...   \n",
       "2       Maverick      Send customers personalized videos at scale.     \n",
       "3            0Xai      Stable Diffusion Prompt And Images Generator    \n",
       "4           10Web  AI-powered WordPress platform for automated we...   \n",
       "\n",
       "    payment                        Category  \\\n",
       "0      Free             experiments    , 3D   \n",
       "1  Freemium                 email assistant   \n",
       "2      Paid   e-commerce    , audio editing   \n",
       "3      Free    image generator    , prompts   \n",
       "4  Freemium                low-code,no-code   \n",
       "\n",
       "                                         Link  \n",
       "0                   https://farm3d.github.io/  \n",
       "1  https://www.mailbutler.io/smart-assistant/  \n",
       "2                https://www.trymaverick.com/  \n",
       "3                          https://0xai.quest  \n",
       "4                           https://10web.io/  "
      ]
     },
     "execution_count": 200,
     "metadata": {},
     "output_type": "execute_result"
    }
   ],
   "source": [
    "data2.head()"
   ]
  },
  {
   "cell_type": "code",
   "execution_count": 201,
   "id": "c19804aa",
   "metadata": {},
   "outputs": [],
   "source": [
    "order=['Tool Name','Description','Link','Category','payment']"
   ]
  },
  {
   "cell_type": "code",
   "execution_count": 202,
   "id": "6d77995d",
   "metadata": {},
   "outputs": [],
   "source": [
    "data1=data1[order]\n",
    "data2=data2[order]"
   ]
  },
  {
   "cell_type": "code",
   "execution_count": 203,
   "id": "ac3bd7d1",
   "metadata": {},
   "outputs": [
    {
     "data": {
      "text/html": [
       "<div>\n",
       "<style scoped>\n",
       "    .dataframe tbody tr th:only-of-type {\n",
       "        vertical-align: middle;\n",
       "    }\n",
       "\n",
       "    .dataframe tbody tr th {\n",
       "        vertical-align: top;\n",
       "    }\n",
       "\n",
       "    .dataframe thead th {\n",
       "        text-align: right;\n",
       "    }\n",
       "</style>\n",
       "<table border=\"1\" class=\"dataframe\">\n",
       "  <thead>\n",
       "    <tr style=\"text-align: right;\">\n",
       "      <th></th>\n",
       "      <th>Tool Name</th>\n",
       "      <th>Description</th>\n",
       "      <th>Link</th>\n",
       "      <th>Category</th>\n",
       "      <th>payment</th>\n",
       "    </tr>\n",
       "  </thead>\n",
       "  <tbody>\n",
       "    <tr>\n",
       "      <th>0</th>\n",
       "      <td>Verk</td>\n",
       "      <td>Verk.ai is an AI tool that allows businesses t...</td>\n",
       "      <td>https://getverk.ai</td>\n",
       "      <td>Business,Automation</td>\n",
       "      <td>Free trial</td>\n",
       "    </tr>\n",
       "    <tr>\n",
       "      <th>1</th>\n",
       "      <td>Cliptics</td>\n",
       "      <td>ClIptics is an online tool that allows you to ...</td>\n",
       "      <td>https://cliptics.com/</td>\n",
       "      <td>Text-to-speech,Voice</td>\n",
       "      <td>Free</td>\n",
       "    </tr>\n",
       "    <tr>\n",
       "      <th>2</th>\n",
       "      <td>KardsAI - Instant Flashcard</td>\n",
       "      <td>Kardsai, an instant flashcard mobile app power...</td>\n",
       "      <td>https://www.kardsai.app</td>\n",
       "      <td>Education,Students</td>\n",
       "      <td>Freemium</td>\n",
       "    </tr>\n",
       "    <tr>\n",
       "      <th>3</th>\n",
       "      <td>AI Phone</td>\n",
       "      <td>AI Phone is revolutionizing the phone call exp...</td>\n",
       "      <td>https://www.aiphone.ai/</td>\n",
       "      <td>Customer Support,AI Assistant</td>\n",
       "      <td>Free trial</td>\n",
       "    </tr>\n",
       "    <tr>\n",
       "      <th>4</th>\n",
       "      <td>Shakker.Ai</td>\n",
       "      <td>Shakker.ai, is a powerful image generator with...</td>\n",
       "      <td>https://www.shakker.ai/</td>\n",
       "      <td>Image Generation</td>\n",
       "      <td>Paid</td>\n",
       "    </tr>\n",
       "  </tbody>\n",
       "</table>\n",
       "</div>"
      ],
      "text/plain": [
       "                     Tool Name  \\\n",
       "0                         Verk   \n",
       "1                     Cliptics   \n",
       "2  KardsAI - Instant Flashcard   \n",
       "3                     AI Phone   \n",
       "4                   Shakker.Ai   \n",
       "\n",
       "                                         Description  \\\n",
       "0  Verk.ai is an AI tool that allows businesses t...   \n",
       "1  ClIptics is an online tool that allows you to ...   \n",
       "2  Kardsai, an instant flashcard mobile app power...   \n",
       "3  AI Phone is revolutionizing the phone call exp...   \n",
       "4  Shakker.ai, is a powerful image generator with...   \n",
       "\n",
       "                       Link                       Category     payment  \n",
       "0        https://getverk.ai            Business,Automation  Free trial  \n",
       "1     https://cliptics.com/           Text-to-speech,Voice        Free  \n",
       "2   https://www.kardsai.app             Education,Students    Freemium  \n",
       "3   https://www.aiphone.ai/  Customer Support,AI Assistant  Free trial  \n",
       "4   https://www.shakker.ai/               Image Generation        Paid  "
      ]
     },
     "execution_count": 203,
     "metadata": {},
     "output_type": "execute_result"
    }
   ],
   "source": [
    "data1.head()"
   ]
  },
  {
   "cell_type": "code",
   "execution_count": 204,
   "id": "93bd35e7",
   "metadata": {},
   "outputs": [
    {
     "data": {
      "text/plain": [
       "(4728, 5)"
      ]
     },
     "execution_count": 204,
     "metadata": {},
     "output_type": "execute_result"
    }
   ],
   "source": [
    "data1.shape"
   ]
  },
  {
   "cell_type": "code",
   "execution_count": 205,
   "id": "2328bedb",
   "metadata": {},
   "outputs": [
    {
     "data": {
      "text/html": [
       "<div>\n",
       "<style scoped>\n",
       "    .dataframe tbody tr th:only-of-type {\n",
       "        vertical-align: middle;\n",
       "    }\n",
       "\n",
       "    .dataframe tbody tr th {\n",
       "        vertical-align: top;\n",
       "    }\n",
       "\n",
       "    .dataframe thead th {\n",
       "        text-align: right;\n",
       "    }\n",
       "</style>\n",
       "<table border=\"1\" class=\"dataframe\">\n",
       "  <thead>\n",
       "    <tr style=\"text-align: right;\">\n",
       "      <th></th>\n",
       "      <th>Tool Name</th>\n",
       "      <th>Description</th>\n",
       "      <th>Link</th>\n",
       "      <th>Category</th>\n",
       "      <th>payment</th>\n",
       "    </tr>\n",
       "  </thead>\n",
       "  <tbody>\n",
       "    <tr>\n",
       "      <th>0</th>\n",
       "      <td>Farm3D</td>\n",
       "      <td>Learning Articulated 3D Animals by Distilling ...</td>\n",
       "      <td>https://farm3d.github.io/</td>\n",
       "      <td>experiments    , 3D</td>\n",
       "      <td>Free</td>\n",
       "    </tr>\n",
       "    <tr>\n",
       "      <th>1</th>\n",
       "      <td>Mailbutler Ai</td>\n",
       "      <td>AI-powered Smart Assistant for Outlook, Gmail ...</td>\n",
       "      <td>https://www.mailbutler.io/smart-assistant/</td>\n",
       "      <td>email assistant</td>\n",
       "      <td>Freemium</td>\n",
       "    </tr>\n",
       "    <tr>\n",
       "      <th>2</th>\n",
       "      <td>Maverick</td>\n",
       "      <td>Send customers personalized videos at scale.</td>\n",
       "      <td>https://www.trymaverick.com/</td>\n",
       "      <td>e-commerce    , audio editing</td>\n",
       "      <td>Paid</td>\n",
       "    </tr>\n",
       "    <tr>\n",
       "      <th>3</th>\n",
       "      <td>0Xai</td>\n",
       "      <td>Stable Diffusion Prompt And Images Generator</td>\n",
       "      <td>https://0xai.quest</td>\n",
       "      <td>image generator    , prompts</td>\n",
       "      <td>Free</td>\n",
       "    </tr>\n",
       "    <tr>\n",
       "      <th>4</th>\n",
       "      <td>10Web</td>\n",
       "      <td>AI-powered WordPress platform for automated we...</td>\n",
       "      <td>https://10web.io/</td>\n",
       "      <td>low-code,no-code</td>\n",
       "      <td>Freemium</td>\n",
       "    </tr>\n",
       "  </tbody>\n",
       "</table>\n",
       "</div>"
      ],
      "text/plain": [
       "        Tool Name                                        Description  \\\n",
       "0          Farm3D  Learning Articulated 3D Animals by Distilling ...   \n",
       "1   Mailbutler Ai  AI-powered Smart Assistant for Outlook, Gmail ...   \n",
       "2       Maverick      Send customers personalized videos at scale.     \n",
       "3            0Xai      Stable Diffusion Prompt And Images Generator    \n",
       "4           10Web  AI-powered WordPress platform for automated we...   \n",
       "\n",
       "                                         Link                        Category  \\\n",
       "0                   https://farm3d.github.io/             experiments    , 3D   \n",
       "1  https://www.mailbutler.io/smart-assistant/                 email assistant   \n",
       "2                https://www.trymaverick.com/   e-commerce    , audio editing   \n",
       "3                          https://0xai.quest    image generator    , prompts   \n",
       "4                           https://10web.io/                low-code,no-code   \n",
       "\n",
       "    payment  \n",
       "0      Free  \n",
       "1  Freemium  \n",
       "2      Paid  \n",
       "3      Free  \n",
       "4  Freemium  "
      ]
     },
     "execution_count": 205,
     "metadata": {},
     "output_type": "execute_result"
    }
   ],
   "source": [
    "data2.head()"
   ]
  },
  {
   "cell_type": "code",
   "execution_count": 206,
   "id": "5a69e1ce",
   "metadata": {},
   "outputs": [
    {
     "data": {
      "text/plain": [
       "(4969, 5)"
      ]
     },
     "execution_count": 206,
     "metadata": {},
     "output_type": "execute_result"
    }
   ],
   "source": [
    "data2.shape"
   ]
  },
  {
   "cell_type": "code",
   "execution_count": 207,
   "id": "dd332c50",
   "metadata": {},
   "outputs": [],
   "source": [
    "final_data = pd.concat([data1, data2], ignore_index=True)"
   ]
  },
  {
   "cell_type": "code",
   "execution_count": 208,
   "id": "55dfb1f0",
   "metadata": {},
   "outputs": [
    {
     "data": {
      "text/html": [
       "<div>\n",
       "<style scoped>\n",
       "    .dataframe tbody tr th:only-of-type {\n",
       "        vertical-align: middle;\n",
       "    }\n",
       "\n",
       "    .dataframe tbody tr th {\n",
       "        vertical-align: top;\n",
       "    }\n",
       "\n",
       "    .dataframe thead th {\n",
       "        text-align: right;\n",
       "    }\n",
       "</style>\n",
       "<table border=\"1\" class=\"dataframe\">\n",
       "  <thead>\n",
       "    <tr style=\"text-align: right;\">\n",
       "      <th></th>\n",
       "      <th>Tool Name</th>\n",
       "      <th>Description</th>\n",
       "      <th>Link</th>\n",
       "      <th>Category</th>\n",
       "      <th>payment</th>\n",
       "    </tr>\n",
       "  </thead>\n",
       "  <tbody>\n",
       "    <tr>\n",
       "      <th>0</th>\n",
       "      <td>Verk</td>\n",
       "      <td>Verk.ai is an AI tool that allows businesses t...</td>\n",
       "      <td>https://getverk.ai</td>\n",
       "      <td>Business,Automation</td>\n",
       "      <td>Free trial</td>\n",
       "    </tr>\n",
       "    <tr>\n",
       "      <th>1</th>\n",
       "      <td>Cliptics</td>\n",
       "      <td>ClIptics is an online tool that allows you to ...</td>\n",
       "      <td>https://cliptics.com/</td>\n",
       "      <td>Text-to-speech,Voice</td>\n",
       "      <td>Free</td>\n",
       "    </tr>\n",
       "    <tr>\n",
       "      <th>2</th>\n",
       "      <td>KardsAI - Instant Flashcard</td>\n",
       "      <td>Kardsai, an instant flashcard mobile app power...</td>\n",
       "      <td>https://www.kardsai.app</td>\n",
       "      <td>Education,Students</td>\n",
       "      <td>Freemium</td>\n",
       "    </tr>\n",
       "    <tr>\n",
       "      <th>3</th>\n",
       "      <td>AI Phone</td>\n",
       "      <td>AI Phone is revolutionizing the phone call exp...</td>\n",
       "      <td>https://www.aiphone.ai/</td>\n",
       "      <td>Customer Support,AI Assistant</td>\n",
       "      <td>Free trial</td>\n",
       "    </tr>\n",
       "    <tr>\n",
       "      <th>4</th>\n",
       "      <td>Shakker.Ai</td>\n",
       "      <td>Shakker.ai, is a powerful image generator with...</td>\n",
       "      <td>https://www.shakker.ai/</td>\n",
       "      <td>Image Generation</td>\n",
       "      <td>Paid</td>\n",
       "    </tr>\n",
       "  </tbody>\n",
       "</table>\n",
       "</div>"
      ],
      "text/plain": [
       "                     Tool Name  \\\n",
       "0                         Verk   \n",
       "1                     Cliptics   \n",
       "2  KardsAI - Instant Flashcard   \n",
       "3                     AI Phone   \n",
       "4                   Shakker.Ai   \n",
       "\n",
       "                                         Description  \\\n",
       "0  Verk.ai is an AI tool that allows businesses t...   \n",
       "1  ClIptics is an online tool that allows you to ...   \n",
       "2  Kardsai, an instant flashcard mobile app power...   \n",
       "3  AI Phone is revolutionizing the phone call exp...   \n",
       "4  Shakker.ai, is a powerful image generator with...   \n",
       "\n",
       "                       Link                       Category     payment  \n",
       "0        https://getverk.ai            Business,Automation  Free trial  \n",
       "1     https://cliptics.com/           Text-to-speech,Voice        Free  \n",
       "2   https://www.kardsai.app             Education,Students    Freemium  \n",
       "3   https://www.aiphone.ai/  Customer Support,AI Assistant  Free trial  \n",
       "4   https://www.shakker.ai/               Image Generation        Paid  "
      ]
     },
     "execution_count": 208,
     "metadata": {},
     "output_type": "execute_result"
    }
   ],
   "source": [
    "final_data.head()"
   ]
  },
  {
   "cell_type": "code",
   "execution_count": 209,
   "id": "74d23661",
   "metadata": {},
   "outputs": [
    {
     "data": {
      "text/plain": [
       "(9697, 5)"
      ]
     },
     "execution_count": 209,
     "metadata": {},
     "output_type": "execute_result"
    }
   ],
   "source": [
    "final_data.shape"
   ]
  },
  {
   "cell_type": "code",
   "execution_count": 210,
   "id": "6e82d188",
   "metadata": {},
   "outputs": [],
   "source": [
    "#removing duplicate occurences"
   ]
  },
  {
   "cell_type": "code",
   "execution_count": 211,
   "id": "c4d4fb77",
   "metadata": {},
   "outputs": [],
   "source": [
    "data_without_duplicates =final_data.drop_duplicates(subset=['Link'], keep='first')"
   ]
  },
  {
   "cell_type": "code",
   "execution_count": 212,
   "id": "62b6badf",
   "metadata": {},
   "outputs": [
    {
     "data": {
      "text/plain": [
       "(7200, 5)"
      ]
     },
     "execution_count": 212,
     "metadata": {},
     "output_type": "execute_result"
    }
   ],
   "source": [
    "data_without_duplicates.shape"
   ]
  },
  {
   "cell_type": "code",
   "execution_count": 213,
   "id": "3bbbcb81",
   "metadata": {},
   "outputs": [
    {
     "data": {
      "text/plain": [
       "array(['Free trial', 'Free', 'Freemium', 'Paid', 'Waitlist',\n",
       "       'Subscription', 'Usage Based', nan, 'free', 'Contact',\n",
       "       'One time payment', 'Usage based', 'Unknown', 'Free trial ✨',\n",
       "       'Subscription ✨', 'Freemium ✨', 'Free trail', 'free trial',\n",
       "       'Paid Subscription', 'Contact for Pricing', 'Free Trial',\n",
       "       'Free-Trial | Deals', 'Freemium | Deals', 'FreeDeals',\n",
       "       'Free-Trial | Paid', 'Freemium |Contact for Pricing',\n",
       "       'Freemium | Free-Trial', 'Free-Trial | Freemium', 'Paid | Deals',\n",
       "       'Free | Paid', 'Deals'], dtype=object)"
      ]
     },
     "execution_count": 213,
     "metadata": {},
     "output_type": "execute_result"
    }
   ],
   "source": [
    "data_without_duplicates.payment.unique()"
   ]
  },
  {
   "cell_type": "code",
   "execution_count": 214,
   "id": "0e23409e",
   "metadata": {},
   "outputs": [],
   "source": [
    "values_to_replace = [\"Free-Trial | Paid\", \"Free-Trial | Deals\", \"Free trial ✨\", \"Freemium | Deals\",\n",
    "                     \"Freemium | Free-Trial\", \"free trial\", \"FreeFreemium\", \"Free Trial\", \"Free-Trial | Freemium\",\n",
    "                     \"Free | Paid\", \"Freemium ✨\", \"Freemium | Free\", \"Paid |Free-Trial\",  \"Free trial\", \"Free trail\", \"Free | Freemium | Paid\", \"Freemium |Contact for Pricing\"]\n",
    "replacement_value = \"Freemium\"\n",
    "\n",
    "# Replace the specified values in the \"Pricing\" column\n",
    "data_without_duplicates['payment'].replace(to_replace=values_to_replace, value=replacement_value, inplace=True)\n"
   ]
  },
  {
   "cell_type": "code",
   "execution_count": 215,
   "id": "98ca98d3",
   "metadata": {},
   "outputs": [],
   "source": [
    "values_to_replace = [\"Paid | Deals\", \"Paid Subscription\", \"Subscription\", \"Subscription ✨\", \"Contact for Pricing\", \"Deals\", \"Usage Based\", \"One time payment\", \"Usage based\", \"Contact\"]\n",
    "replacement_value = \"Paid\"\n",
    "\n",
    "# Replace the specified values in the \"payment\" column\n",
    "data_without_duplicates['payment'].replace(to_replace=values_to_replace, value=replacement_value, inplace=True)\n"
   ]
  },
  {
   "cell_type": "code",
   "execution_count": 216,
   "id": "cc689ef2",
   "metadata": {},
   "outputs": [],
   "source": [
    "data_without_duplicates.fillna('NA', inplace=True)"
   ]
  },
  {
   "cell_type": "code",
   "execution_count": 217,
   "id": "5321f502",
   "metadata": {},
   "outputs": [
    {
     "data": {
      "text/plain": [
       "array(['Freemium', 'Free', 'Paid', 'Waitlist', 'NA', 'free', 'Unknown',\n",
       "       'FreeDeals'], dtype=object)"
      ]
     },
     "execution_count": 217,
     "metadata": {},
     "output_type": "execute_result"
    }
   ],
   "source": [
    "data_without_duplicates.payment.unique()"
   ]
  },
  {
   "cell_type": "code",
   "execution_count": 218,
   "id": "71b7e306",
   "metadata": {},
   "outputs": [],
   "source": [
    "data_without_duplicates['payment'].replace(to_replace=[\"Unknown\",\"FreeDeals\",\"Waitlist\"], value=\"NA\", inplace=True)"
   ]
  },
  {
   "cell_type": "code",
   "execution_count": 219,
   "id": "1c0ca37a",
   "metadata": {},
   "outputs": [],
   "source": [
    "data_without_duplicates['payment'].replace(to_replace=\"free\", value=\"Free\", inplace=True)"
   ]
  },
  {
   "cell_type": "code",
   "execution_count": 220,
   "id": "388354f8",
   "metadata": {},
   "outputs": [
    {
     "data": {
      "text/plain": [
       "array(['Freemium', 'Free', 'Paid', 'NA'], dtype=object)"
      ]
     },
     "execution_count": 220,
     "metadata": {},
     "output_type": "execute_result"
    }
   ],
   "source": [
    "data_without_duplicates.payment.unique()"
   ]
  },
  {
   "cell_type": "code",
   "execution_count": 221,
   "id": "781e2bb9",
   "metadata": {},
   "outputs": [
    {
     "data": {
      "text/plain": [
       "(7200, 5)"
      ]
     },
     "execution_count": 221,
     "metadata": {},
     "output_type": "execute_result"
    }
   ],
   "source": [
    "data_without_duplicates.shape"
   ]
  },
  {
   "cell_type": "code",
   "execution_count": 222,
   "id": "133b4693",
   "metadata": {},
   "outputs": [],
   "source": [
    "data_without_duplicates.to_csv('final_data.csv')"
   ]
  },
  {
   "cell_type": "code",
   "execution_count": null,
   "id": "eb6abcc1",
   "metadata": {},
   "outputs": [],
   "source": []
  }
 ],
 "metadata": {
  "kernelspec": {
   "display_name": "Python 3 (ipykernel)",
   "language": "python",
   "name": "python3"
  },
  "language_info": {
   "codemirror_mode": {
    "name": "ipython",
    "version": 3
   },
   "file_extension": ".py",
   "mimetype": "text/x-python",
   "name": "python",
   "nbconvert_exporter": "python",
   "pygments_lexer": "ipython3",
   "version": "3.9.12"
  }
 },
 "nbformat": 4,
 "nbformat_minor": 5
}
